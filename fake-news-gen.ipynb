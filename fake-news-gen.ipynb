{
 "cells": [
  {
   "cell_type": "markdown",
   "metadata": {},
   "source": [
    "# Text Generation"
   ]
  },
  {
   "cell_type": "markdown",
   "metadata": {},
   "source": [
    "## Python Pizza Hamburg New Year's 🎉🎉🎉\n",
    "> This Jupyter Notebook was forked and edited from [this repo](https://github.com/adashofdata/nlp-in-python-tutorial/blob/d66c67a094836e7c79663d5013d4c0152d710f52/5-Text-Generation.ipynb).\n",
    "> Thanks, Alice! :)"
   ]
  },
  {
   "cell_type": "markdown",
   "metadata": {},
   "source": [
    "## Introduction"
   ]
  },
  {
   "cell_type": "markdown",
   "metadata": {},
   "source": [
    "\"Markov chains can be used for very basic text generation. Think about every word in a corpus as a state. We can make a simple assumption that the next word is only dependent on the previous word - which is the basic assumption of a Markov chain.\" Alice Zaho\n",
    "\n",
    "A better way to generate sentences is to use Deep Learning, but Markov CHain is a good beginner's implementation. Simple and loads of fun!"
   ]
  },
  {
   "cell_type": "markdown",
   "metadata": {},
   "source": [
    "### Load the datasets"
   ]
  },
  {
   "cell_type": "markdown",
   "metadata": {},
   "source": [
    "Here, we will use the two datasets (one with 5G news and the other with Trump news) to generate the lists for the Markov Chain system. \n",
    "\n",
    "For starters, let's loads the datasets:"
   ]
  },
  {
   "cell_type": "code",
   "execution_count": 9,
   "metadata": {},
   "outputs": [
    {
     "data": {
      "text/html": [
       "<div>\n",
       "<style scoped>\n",
       "    .dataframe tbody tr th:only-of-type {\n",
       "        vertical-align: middle;\n",
       "    }\n",
       "\n",
       "    .dataframe tbody tr th {\n",
       "        vertical-align: top;\n",
       "    }\n",
       "\n",
       "    .dataframe thead th {\n",
       "        text-align: right;\n",
       "    }\n",
       "</style>\n",
       "<table border=\"1\" class=\"dataframe\">\n",
       "  <thead>\n",
       "    <tr style=\"text-align: right;\">\n",
       "      <th></th>\n",
       "      <th>Headings</th>\n",
       "      <th>Subheadings</th>\n",
       "    </tr>\n",
       "  </thead>\n",
       "  <tbody>\n",
       "    <tr>\n",
       "      <th>0</th>\n",
       "      <td>Barr Leaves a Legacy Defined by Trump</td>\n",
       "      <td>Though he sometimes departed from the presiden...</td>\n",
       "    </tr>\n",
       "    <tr>\n",
       "      <th>1</th>\n",
       "      <td>In Trump’s Corner, With Flashes of Autonomy</td>\n",
       "      <td>Attorney General William P. Barr, who departed...</td>\n",
       "    </tr>\n",
       "    <tr>\n",
       "      <th>2</th>\n",
       "      <td>Clemency Case Shows the Perks Of Trump Ties</td>\n",
       "      <td>Philip Esformes, a nursing home operator, was ...</td>\n",
       "    </tr>\n",
       "    <tr>\n",
       "      <th>3</th>\n",
       "      <td>Answering Trump, Democrats Try and Fail to Jam...</td>\n",
       "      <td>In a brief bit of political theater, the House...</td>\n",
       "    </tr>\n",
       "    <tr>\n",
       "      <th>4</th>\n",
       "      <td>Answering Trump, Democrats Fail to Pass $2,000...</td>\n",
       "      <td>At a news conference after the unsuccessful mo...</td>\n",
       "    </tr>\n",
       "    <tr>\n",
       "      <th>...</th>\n",
       "      <td>...</td>\n",
       "      <td>...</td>\n",
       "    </tr>\n",
       "    <tr>\n",
       "      <th>95</th>\n",
       "      <td>New York Post to Trump: ‘End This Dark Charade’</td>\n",
       "      <td>Rupert Murdoch’s New York Post put more distan...</td>\n",
       "    </tr>\n",
       "    <tr>\n",
       "      <th>96</th>\n",
       "      <td>Republicans in Congress Stay Largely in Line B...</td>\n",
       "      <td>A few top Republicans called for a smooth tran...</td>\n",
       "    </tr>\n",
       "    <tr>\n",
       "      <th>97</th>\n",
       "      <td>Few Voices Breaking From G.O.P.’s Wall of Sile...</td>\n",
       "      <td>Senator Lamar Alexander, Republican of Tenness...</td>\n",
       "    </tr>\n",
       "    <tr>\n",
       "      <th>98</th>\n",
       "      <td>Business and World Leaders Move On as Trump Fi...</td>\n",
       "      <td>President-elect Joseph R. Biden Jr. is seizing...</td>\n",
       "    </tr>\n",
       "    <tr>\n",
       "      <th>99</th>\n",
       "      <td>Global Acceptance of the President-Elect</td>\n",
       "      <td>President Trump, by far the dominant world fig...</td>\n",
       "    </tr>\n",
       "  </tbody>\n",
       "</table>\n",
       "<p>100 rows × 2 columns</p>\n",
       "</div>"
      ],
      "text/plain": [
       "                                             Headings  \\\n",
       "0               Barr Leaves a Legacy Defined by Trump   \n",
       "1         In Trump’s Corner, With Flashes of Autonomy   \n",
       "2         Clemency Case Shows the Perks Of Trump Ties   \n",
       "3   Answering Trump, Democrats Try and Fail to Jam...   \n",
       "4   Answering Trump, Democrats Fail to Pass $2,000...   \n",
       "..                                                ...   \n",
       "95    New York Post to Trump: ‘End This Dark Charade’   \n",
       "96  Republicans in Congress Stay Largely in Line B...   \n",
       "97  Few Voices Breaking From G.O.P.’s Wall of Sile...   \n",
       "98  Business and World Leaders Move On as Trump Fi...   \n",
       "99           Global Acceptance of the President-Elect   \n",
       "\n",
       "                                          Subheadings  \n",
       "0   Though he sometimes departed from the presiden...  \n",
       "1   Attorney General William P. Barr, who departed...  \n",
       "2   Philip Esformes, a nursing home operator, was ...  \n",
       "3   In a brief bit of political theater, the House...  \n",
       "4   At a news conference after the unsuccessful mo...  \n",
       "..                                                ...  \n",
       "95  Rupert Murdoch’s New York Post put more distan...  \n",
       "96  A few top Republicans called for a smooth tran...  \n",
       "97  Senator Lamar Alexander, Republican of Tenness...  \n",
       "98  President-elect Joseph R. Biden Jr. is seizing...  \n",
       "99  President Trump, by far the dominant world fig...  \n",
       "\n",
       "[100 rows x 2 columns]"
      ]
     },
     "execution_count": 9,
     "metadata": {},
     "output_type": "execute_result"
    }
   ],
   "source": [
    "import pandas as pd\n",
    "\n",
    "# Read in the trump dataset, including everything\n",
    "df_trump = pd.read_csv('data/trump_news.csv')\n",
    "df_trump"
   ]
  },
  {
   "cell_type": "code",
   "execution_count": 53,
   "metadata": {},
   "outputs": [
    {
     "data": {
      "text/html": [
       "<div>\n",
       "<style scoped>\n",
       "    .dataframe tbody tr th:only-of-type {\n",
       "        vertical-align: middle;\n",
       "    }\n",
       "\n",
       "    .dataframe tbody tr th {\n",
       "        vertical-align: top;\n",
       "    }\n",
       "\n",
       "    .dataframe thead th {\n",
       "        text-align: right;\n",
       "    }\n",
       "</style>\n",
       "<table border=\"1\" class=\"dataframe\">\n",
       "  <thead>\n",
       "    <tr style=\"text-align: right;\">\n",
       "      <th></th>\n",
       "      <th>Headlines</th>\n",
       "      <th>Subheadings</th>\n",
       "    </tr>\n",
       "  </thead>\n",
       "  <tbody>\n",
       "    <tr>\n",
       "      <th>0</th>\n",
       "      <td>The Tech That Was Fixed in 2020 and the Tech T...</td>\n",
       "      <td>From videoconferencing to fitness apps, the be...</td>\n",
       "    </tr>\n",
       "    <tr>\n",
       "      <th>1</th>\n",
       "      <td>Why the 5G Pushiness? Because $$$.</td>\n",
       "      <td>Selling 5G capability is a huge opportunity fo...</td>\n",
       "    </tr>\n",
       "    <tr>\n",
       "      <th>2</th>\n",
       "      <td>How to Take On the Tech Barons</td>\n",
       "      <td>Something has to be done about the  sector. He...</td>\n",
       "    </tr>\n",
       "    <tr>\n",
       "      <th>3</th>\n",
       "      <td>Apple iPhone 12 Review: Superfast Speed, if Yo...</td>\n",
       "      <td>The new iPhone has an improved design, but it’...</td>\n",
       "    </tr>\n",
       "    <tr>\n",
       "      <th>4</th>\n",
       "      <td>IPhone 12’s 5G Asterisk: It’s Great, if It’s A...</td>\n",
       "      <td>Apple unveiled the iPhone 12, left, and iPhone...</td>\n",
       "    </tr>\n",
       "    <tr>\n",
       "      <th>...</th>\n",
       "      <td>...</td>\n",
       "      <td>...</td>\n",
       "    </tr>\n",
       "    <tr>\n",
       "      <th>75</th>\n",
       "      <td>The New Tech Cold War</td>\n",
       "      <td>Tensions between China and the U.S. are higher...</td>\n",
       "    </tr>\n",
       "    <tr>\n",
       "      <th>76</th>\n",
       "      <td>How to Fight That Sinking Feeling</td>\n",
       "      <td>Markets are expecting increasingly aggressive,...</td>\n",
       "    </tr>\n",
       "    <tr>\n",
       "      <th>77</th>\n",
       "      <td>Really? Is the White House Proposing to Buy Er...</td>\n",
       "      <td>The attorney general suggested that one way of...</td>\n",
       "    </tr>\n",
       "    <tr>\n",
       "      <th>78</th>\n",
       "      <td>India Bans Nearly 60 Chinese Apps, Including T...</td>\n",
       "      <td>The move is part of the tit-for-tat retaliatio...</td>\n",
       "    </tr>\n",
       "    <tr>\n",
       "      <th>79</th>\n",
       "      <td>Who Won the Election? Years Ago, the Sky Had t...</td>\n",
       "      <td>Back in 1904, all you had to do to learn the o...</td>\n",
       "    </tr>\n",
       "  </tbody>\n",
       "</table>\n",
       "<p>80 rows × 2 columns</p>\n",
       "</div>"
      ],
      "text/plain": [
       "                                            Headlines  \\\n",
       "0   The Tech That Was Fixed in 2020 and the Tech T...   \n",
       "1                  Why the 5G Pushiness? Because $$$.   \n",
       "2                      How to Take On the Tech Barons   \n",
       "3   Apple iPhone 12 Review: Superfast Speed, if Yo...   \n",
       "4   IPhone 12’s 5G Asterisk: It’s Great, if It’s A...   \n",
       "..                                                ...   \n",
       "75                              The New Tech Cold War   \n",
       "76                  How to Fight That Sinking Feeling   \n",
       "77  Really? Is the White House Proposing to Buy Er...   \n",
       "78  India Bans Nearly 60 Chinese Apps, Including T...   \n",
       "79  Who Won the Election? Years Ago, the Sky Had t...   \n",
       "\n",
       "                                          Subheadings  \n",
       "0   From videoconferencing to fitness apps, the be...  \n",
       "1   Selling 5G capability is a huge opportunity fo...  \n",
       "2   Something has to be done about the  sector. He...  \n",
       "3   The new iPhone has an improved design, but it’...  \n",
       "4   Apple unveiled the iPhone 12, left, and iPhone...  \n",
       "..                                                ...  \n",
       "75  Tensions between China and the U.S. are higher...  \n",
       "76  Markets are expecting increasingly aggressive,...  \n",
       "77  The attorney general suggested that one way of...  \n",
       "78  The move is part of the tit-for-tat retaliatio...  \n",
       "79  Back in 1904, all you had to do to learn the o...  \n",
       "\n",
       "[80 rows x 2 columns]"
      ]
     },
     "execution_count": 53,
     "metadata": {},
     "output_type": "execute_result"
    }
   ],
   "source": [
    "# read and load 5G news dataset\n",
    "df_5g = pd.read_csv('data/5g_news.csv')\n",
    "df_5g"
   ]
  },
  {
   "cell_type": "code",
   "execution_count": 239,
   "metadata": {},
   "outputs": [
    {
     "data": {
      "text/plain": [
       "'A Glitch in Trump’s Plan to Live at Mar-a-Lago: A Pact He Signed Says He Can’t'"
      ]
     },
     "execution_count": 239,
     "metadata": {},
     "output_type": "execute_result"
    }
   ],
   "source": [
    "# Extract only Headlines text from the dataset\n",
    "# headings = df_5g.Headlines.loc[29] #5G dataset\n",
    "headings = df_trump.Headings.loc[24] #trump dataset\n",
    "headings[:200]"
   ]
  },
  {
   "cell_type": "markdown",
   "metadata": {},
   "source": [
    "## Build the Markov Chain Function"
   ]
  },
  {
   "cell_type": "markdown",
   "metadata": {},
   "source": [
    "Build the simple (noobie-friendly) Markov chain function that creates a dictionary:\n",
    "* The keys should be all of the words in the dataframe\n",
    "* The values should be a list of the words which follows the keys"
   ]
  },
  {
   "cell_type": "code",
   "execution_count": 240,
   "metadata": {},
   "outputs": [],
   "source": [
    "from collections import defaultdict #pydict on steroids perfect to handle missing data\n",
    "\n",
    "def markov_chain(text):\n",
    "    '''The input is a list of strings of text and the output will be a dictionary with each word as\n",
    "       a key and each value as the list of words that come after the key in the text.'''\n",
    "    \n",
    "    # Tokenize the text by word, though including punctuation\n",
    "    words = text.rsplit(' ')\n",
    "    \n",
    "    # Initialize a default dictionary to hold all of the words and next words\n",
    "    m_dict = defaultdict(list)\n",
    "    \n",
    "    # Create a zipped list of all of the word pairs and put them in word: list of next words format\n",
    "    for current_word, next_word in zip(words[0:-1], words[1:]):\n",
    "        m_dict[current_word].append(next_word)\n",
    "\n",
    "    # Convert the default dict back into a dictionary\n",
    "    m_dict = dict(m_dict)\n",
    "    return m_dict"
   ]
  },
  {
   "cell_type": "code",
   "execution_count": 241,
   "metadata": {},
   "outputs": [
    {
     "data": {
      "text/plain": [
       "{'A': ['Glitch', 'Pact'],\n",
       " 'Glitch': ['in'],\n",
       " 'in': ['Trump’s'],\n",
       " 'Trump’s': ['Plan'],\n",
       " 'Plan': ['to'],\n",
       " 'to': ['Live'],\n",
       " 'Live': ['at'],\n",
       " 'at': ['Mar-a-Lago:'],\n",
       " 'Mar-a-Lago:': ['A'],\n",
       " 'Pact': ['He'],\n",
       " 'He': ['Signed', 'Can’t'],\n",
       " 'Signed': ['Says'],\n",
       " 'Says': ['He']}"
      ]
     },
     "execution_count": 241,
     "metadata": {},
     "output_type": "execute_result"
    }
   ],
   "source": [
    "# Create the dictionary for the dataframe and print the output\n",
    "dict_df = markov_chain(headings)\n",
    "dict_df"
   ]
  },
  {
   "cell_type": "markdown",
   "metadata": {},
   "source": [
    "## Create a Text Generator"
   ]
  },
  {
   "cell_type": "markdown",
   "metadata": {},
   "source": [
    "We're going to create a function that generates sentences. It will take two things as inputs:\n",
    "* The dictionary we have just created\n",
    "* The number of words we want generated\n",
    "\n",
    "Here are some examples of generated sentences:\n",
    "\n",
    ">'Iphone 12 Review: Superfast Speed, if You Can Find It.'\n",
    "\n",
    ">'5G as Tech Battle Between China and the West Escalates.'"
   ]
  },
  {
   "cell_type": "code",
   "execution_count": 242,
   "metadata": {},
   "outputs": [],
   "source": [
    "import random\n",
    "\n",
    "def generate_sentence(chain, count=10):\n",
    "    '''Input a dictionary in the format of key = current word, value = list of next words\n",
    "       along with the number of words you would like to see in your generated sentence.'''\n",
    "\n",
    "    # Capitalize the first word\n",
    "    word1 = random.choice(list(chain.keys()))\n",
    "    sentence = word1.capitalize()\n",
    "\n",
    "    # Generate the second word from the value list. Set the new word as the first word. Repeat.\n",
    "    for i in range(count-1):\n",
    "        word2 = random.choice(chain[word1])\n",
    "        word1 = word2\n",
    "        sentence += ' ' + word2\n",
    "\n",
    "    # End it with a period\n",
    "    sentence += '.'\n",
    "    return(sentence)"
   ]
  },
  {
   "cell_type": "code",
   "execution_count": 243,
   "metadata": {},
   "outputs": [
    {
     "data": {
      "text/plain": [
       "'Live at Mar-a-Lago: A Pact He Signed Says He Can’t.'"
      ]
     },
     "execution_count": 243,
     "metadata": {},
     "output_type": "execute_result"
    }
   ],
   "source": [
    "generate_sentence(dict_df)"
   ]
  }
 ],
 "metadata": {
  "kernelspec": {
   "display_name": "fake_news_env",
   "language": "python",
   "name": "fake_news_env"
  },
  "language_info": {
   "codemirror_mode": {
    "name": "ipython",
    "version": 3
   },
   "file_extension": ".py",
   "mimetype": "text/x-python",
   "name": "python",
   "nbconvert_exporter": "python",
   "pygments_lexer": "ipython3",
   "version": "3.8.5"
  },
  "toc": {
   "nav_menu": {},
   "number_sections": true,
   "sideBar": true,
   "skip_h1_title": false,
   "toc_cell": false,
   "toc_position": {},
   "toc_section_display": "block",
   "toc_window_display": false
  },
  "varInspector": {
   "cols": {
    "lenName": 16,
    "lenType": 16,
    "lenVar": 40
   },
   "kernels_config": {
    "python": {
     "delete_cmd_postfix": "",
     "delete_cmd_prefix": "del ",
     "library": "var_list.py",
     "varRefreshCmd": "print(var_dic_list())"
    },
    "r": {
     "delete_cmd_postfix": ") ",
     "delete_cmd_prefix": "rm(",
     "library": "var_list.r",
     "varRefreshCmd": "cat(var_dic_list()) "
    }
   },
   "types_to_exclude": [
    "module",
    "function",
    "builtin_function_or_method",
    "instance",
    "_Feature"
   ],
   "window_display": false
  }
 },
 "nbformat": 4,
 "nbformat_minor": 2
}